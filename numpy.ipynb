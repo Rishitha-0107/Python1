{
  "nbformat": 4,
  "nbformat_minor": 0,
  "metadata": {
    "colab": {
      "provenance": []
    },
    "kernelspec": {
      "name": "python3",
      "display_name": "Python 3"
    },
    "language_info": {
      "name": "python"
    }
  },
  "cells": [
    {
      "cell_type": "code",
      "execution_count": null,
      "metadata": {
        "colab": {
          "base_uri": "https://localhost:8080/"
        },
        "id": "F2qzxrYPCV9-",
        "outputId": "d4ba1f33-1edf-432c-8c30-3f81aa27a066"
      },
      "outputs": [
        {
          "output_type": "stream",
          "name": "stdout",
          "text": [
            "Requirement already satisfied: numpy in /usr/local/lib/python3.12/dist-packages (2.0.2)\n"
          ]
        }
      ],
      "source": [
        "pip install numpy\n"
      ]
    },
    {
      "cell_type": "code",
      "source": [
        "import numpy as np\n",
        "arr_1d=np.array([1,2,3])\n",
        "print(arr_1d)\n",
        "arr_2d=np.array([[1,2,3],[4,5,6]])\n",
        "print(arr_2d)\n",
        "arr_3d=np.array([[[1,2,3],[4,5,6],[7,8,9]]])\n",
        "print(arr_3d)\n",
        "print(arr_1d.ndim)\n",
        "print(arr_2d.ndim)\n",
        "print(arr_3d.ndim)\n"
      ],
      "metadata": {
        "colab": {
          "base_uri": "https://localhost:8080/"
        },
        "id": "GnTS9EpoDHpE",
        "outputId": "ba810024-bdc1-4648-c110-c1ac3a684e20"
      },
      "execution_count": null,
      "outputs": [
        {
          "output_type": "stream",
          "name": "stdout",
          "text": [
            "[1 2 3]\n",
            "[[1 2 3]\n",
            " [4 5 6]]\n",
            "[[[1 2 3]\n",
            "  [4 5 6]\n",
            "  [7 8 9]]]\n",
            "1\n",
            "2\n",
            "3\n"
          ]
        }
      ]
    },
    {
      "cell_type": "code",
      "source": [
        "z=np.zeros((2,3))\n",
        "print(z)\n",
        "o=np.ones((3,3))\n",
        "print(o)\n",
        "random_arr=np.random.random((2,2))\n",
        "print(random_arr)"
      ],
      "metadata": {
        "colab": {
          "base_uri": "https://localhost:8080/"
        },
        "id": "dvRtwuYmFee4",
        "outputId": "86fec265-caee-44da-f2ea-a624a93bcf88"
      },
      "execution_count": null,
      "outputs": [
        {
          "output_type": "stream",
          "name": "stdout",
          "text": [
            "[[0. 0. 0.]\n",
            " [0. 0. 0.]]\n",
            "[[1. 1. 1.]\n",
            " [1. 1. 1.]\n",
            " [1. 1. 1.]]\n",
            "[[0.8247022  0.40640479]\n",
            " [0.78125956 0.52729716]]\n"
          ]
        }
      ]
    },
    {
      "cell_type": "code",
      "source": [
        "identity=np.eye(3)\n",
        "print(identity)\n",
        "range_arr=np.arange(0,10,2)\n",
        "print(range_arr)"
      ],
      "metadata": {
        "colab": {
          "base_uri": "https://localhost:8080/"
        },
        "id": "SGwEx8tqG0TK",
        "outputId": "be0ace6b-e341-4abe-dbe3-b8766e3b9455"
      },
      "execution_count": null,
      "outputs": [
        {
          "output_type": "stream",
          "name": "stdout",
          "text": [
            "[[1. 0. 0.]\n",
            " [0. 1. 0.]\n",
            " [0. 0. 1.]]\n",
            "[0 2 4 6 8]\n"
          ]
        }
      ]
    },
    {
      "cell_type": "code",
      "source": [
        "arr=np.array([[1,2,3],[4,5,6]])\n",
        "print(\"Shape:\",arr.shape)\n",
        "print(\"Size:\",arr.size)\n",
        "print(\"Data Type:\",arr.dtype)\n",
        "print(\"Number of dimensions:\",arr.ndim)"
      ],
      "metadata": {
        "colab": {
          "base_uri": "https://localhost:8080/"
        },
        "id": "JM-PN1D4G4A2",
        "outputId": "96ca5338-ae57-478e-e11a-af9cc5d7b4ab"
      },
      "execution_count": null,
      "outputs": [
        {
          "output_type": "stream",
          "name": "stdout",
          "text": [
            "Shape: (2, 3)\n",
            "Size: 6\n",
            "Data Type: int64\n",
            "Number of dimensions: 2\n"
          ]
        }
      ]
    },
    {
      "cell_type": "code",
      "source": [
        "GH1=np.array([22,25,20])\n",
        "GH2=np.array([24,26,23])\n",
        "temp_data=np.array([GH1,GH2])\n",
        "print(\"Temperature Data(temp_data):\")\n",
        "print(temp_data)\n",
        "\n",
        "print(\"Array Properties:\")\n",
        "print(\"Shape:\",temp_data.shape)\n",
        "print(\"Size:\",temp_data.size)\n",
        "print(\"Data Type:\",temp_data.dtype)\n",
        "print(\"Number of Dimensions:\",temp_data.ndim)\n",
        "\n",
        "GH3=np.array([21,23,22])\n",
        "updated_temp_data=np.vstack([temp_data,GH3])\n",
        "print(\"Updated Temperature Data(updated_temp_data):\")\n",
        "print(updated_temp_data)\n",
        "\n",
        "sensor_error_flags=np.zeros((2,3),dtype=int)\n",
        "greenhouse_identity=np.identity(3,dtype=int)\n",
        "print(\"Sensor Error Flags(sensor_error_flags):\")\n",
        "print(sensor_error_flags)\n",
        "\n",
        "print(\"Greenhouse Identity Matrix(greenhouse_identity):\")\n",
        "print(greenhouse_identity)\n"
      ],
      "metadata": {
        "colab": {
          "base_uri": "https://localhost:8080/"
        },
        "id": "oQVpm0vWJQA0",
        "outputId": "1d7c9eb6-a911-4f87-edce-417977887926"
      },
      "execution_count": 20,
      "outputs": [
        {
          "output_type": "stream",
          "name": "stdout",
          "text": [
            "Temperature Data(temp_data):\n",
            "[[22 25 20]\n",
            " [24 26 23]]\n",
            "Array Properties:\n",
            "Shape: (2, 3)\n",
            "Size: 6\n",
            "Data Type: int64\n",
            "Number of Dimensions: 2\n",
            "Updated Temperature Data(updated_temp_data):\n",
            "[[22 25 20]\n",
            " [24 26 23]\n",
            " [21 23 22]]\n",
            "Sensor Error Flags(sensor_error_flags):\n",
            "[[0 0 0]\n",
            " [0 0 0]]\n",
            "Greenhouse Identity Matrix(greenhouse_identity):\n",
            "[[1 0 0]\n",
            " [0 1 0]\n",
            " [0 0 1]]\n"
          ]
        }
      ]
    },
    {
      "cell_type": "code",
      "source": [
        "arr=np.array([[10,20,30],[40,50,60]])\n",
        "print(arr[0,1])\n",
        "print(arr[1,-1])\n",
        "print(arr[:,1:])"
      ],
      "metadata": {
        "colab": {
          "base_uri": "https://localhost:8080/"
        },
        "id": "rMPlePkBL8MS",
        "outputId": "19b577f3-1929-49a7-e154-0d816b8702c6"
      },
      "execution_count": 22,
      "outputs": [
        {
          "output_type": "stream",
          "name": "stdout",
          "text": [
            "20\n",
            "60\n",
            "[[20 30]\n",
            " [50 60]]\n"
          ]
        }
      ]
    },
    {
      "cell_type": "code",
      "source": [
        "Apples=np.array([50,60,55,70,65,80,90])\n",
        "Oranges=np.array([40,45,50,60,55,70,75])\n",
        "shipments=np.array([[50,60,55,70,65,80,90],[40,45,50,60,55,70,75]])\n",
        "print(shipments)\n",
        "print(\"Apples shipped on wednesday:\",shipments[0,2])\n",
        "print(\"Oranges shipped on Sunday\",shipments[1,6])\n",
        "print(\"Weekday Shipments (Mon–Fri):\",shipments[:, 0:5])\n",
        "print(\"Weekend Shipments (Sat–Sun):\",shipments[:, 5:7])\n",
        "print(\"Apples Shipments (Wed–Sat):\",shipments[0, 2:6])\n",
        "shipments[0,5]=100\n",
        "print(\"Updated Shipments after modifying Saturday Apples to 100:\")\n",
        "print(shipments)\n"
      ],
      "metadata": {
        "colab": {
          "base_uri": "https://localhost:8080/"
        },
        "id": "JQTAyh2yOSnD",
        "outputId": "aee1b801-eee6-4ef8-ddc9-5b6d3e76454b"
      },
      "execution_count": 26,
      "outputs": [
        {
          "output_type": "stream",
          "name": "stdout",
          "text": [
            "[[50 60 55 70 65 80 90]\n",
            " [40 45 50 60 55 70 75]]\n",
            "Apples shipped on wednesday: 55\n",
            "Oranges shipped on Sunday 75\n",
            "Weekday Shipments (Mon–Fri): [[50 60 55 70 65]\n",
            " [40 45 50 60 55]]\n",
            "Weekend Shipments (Sat–Sun): [[80 90]\n",
            " [70 75]]\n",
            "Apples Shipments (Wed–Sat): [55 70 65 80]\n",
            "Updated Shipments after modifying Saturday Apples to 100:\n",
            "[[ 50  60  55  70  65 100  90]\n",
            " [ 40  45  50  60  55  70  75]]\n"
          ]
        }
      ]
    },
    {
      "cell_type": "code",
      "source": [
        "a=np.array([1,2,3])\n",
        "b=np.array([4,5,6])\n",
        "print(a+b)\n",
        "print(b-a)\n",
        "print(a*b)\n",
        "print(a*2)\n",
        "res=np.dot(a,b)\n",
        "print(res)"
      ],
      "metadata": {
        "colab": {
          "base_uri": "https://localhost:8080/"
        },
        "id": "5ZUP7Qh9XDeI",
        "outputId": "ad4fa769-f12e-4c1a-cbbc-4d69cca9493e"
      },
      "execution_count": 28,
      "outputs": [
        {
          "output_type": "stream",
          "name": "stdout",
          "text": [
            "[5 7 9]\n",
            "[3 3 3]\n",
            "[ 4 10 18]\n",
            "[2 4 6]\n",
            "32\n"
          ]
        }
      ]
    },
    {
      "cell_type": "code",
      "source": [
        "a=np.array([1,2,3]) #broadcasting\n",
        "b=2\n",
        "print(a+b)\n",
        "arr=np.array([1,2,3])\n",
        "print(np.exp(arr))\n",
        "print(np.sqrt(arr))\n",
        "print(np.log(arr))\n",
        "print(np.add(a,b))\n",
        "print(np.power(a,b))\n",
        "print(np.mod(a,b))\n",
        "print(np.exp(a))\n",
        "print(np.log(a))\n",
        "print(np.sin(a))\n",
        "print(np.cos(a))\n",
        "print(np.tan(a))\n",
        "print(np.min(a))\n",
        "print(np.max(a))\n",
        "print(np.round(a))\n",
        "print(np.floor(a))\n",
        "print(np.ceil(a))\n",
        "print(np.trunc(a))\n",
        "print(np.std(a))\n",
        "print(np.var(a))\n"
      ],
      "metadata": {
        "colab": {
          "base_uri": "https://localhost:8080/"
        },
        "id": "itybZ55MY1Ky",
        "outputId": "03f86daf-20a6-414b-b380-dabf7ab11ea9"
      },
      "execution_count": 35,
      "outputs": [
        {
          "output_type": "stream",
          "name": "stdout",
          "text": [
            "[3 4 5]\n",
            "[ 2.71828183  7.3890561  20.08553692]\n",
            "[1.         1.41421356 1.73205081]\n",
            "[0.         0.69314718 1.09861229]\n",
            "[3 4 5]\n",
            "[1 4 9]\n",
            "[1 0 1]\n",
            "[ 2.71828183  7.3890561  20.08553692]\n",
            "[0.         0.69314718 1.09861229]\n",
            "[0.84147098 0.90929743 0.14112001]\n",
            "[ 0.54030231 -0.41614684 -0.9899925 ]\n",
            "[ 1.55740772 -2.18503986 -0.14254654]\n",
            "1\n",
            "3\n",
            "[1 2 3]\n",
            "[1. 2. 3.]\n",
            "[1. 2. 3.]\n",
            "[1. 2. 3.]\n",
            "0.816496580927726\n",
            "0.6666666666666666\n"
          ]
        }
      ]
    },
    {
      "cell_type": "code",
      "source": [
        "import numpy as np\n",
        "Farm_A=np.array([\n",
        "    [10,12,11],\n",
        "    [9,11,10],\n",
        "    [12,13,14],\n",
        "    [8,7,9]\n",
        "])\n",
        "Farm_B=np.array([\n",
        "    [20,19,21],\n",
        "    [18,20,19],\n",
        "    [22,23,21],\n",
        "    [17,18,16]\n",
        "])\n",
        "Farm_C=np.array([\n",
        "    [15,16,14],\n",
        "    [14,13,12],\n",
        "    [16,17,18],\n",
        "    [12,11,13]\n",
        "])\n",
        "# STEP 2: Stack into 3D array\n",
        "production_all=np.stack([Farm_A,Farm_B,Farm_C])\n",
        "print(\"Production Data (3 farms × 4 panels × 3 hours):\")\n",
        "print(production_all)\n",
        "# STEP 3: Array Attributes\n",
        "print(\"Shape:\",production_all.shape)\n",
        "print(\"Size:\",production_all.size)\n",
        "print(\"Data Type:\",production_all.dtype)\n",
        "print(\"Dimensions:\",production_all.ndim)\n",
        "# STEP 4: Per-Farm Totals and Statistics\n",
        "total_per_farm=np.sum(production_all,axis=(1,2))\n",
        "mean_per_farm=np.mean(production_all,axis=(1,2))\n",
        "std_per_farm=np.std(production_all,axis=(1,2))\n",
        "var_per_farm=np.var(production_all,axis=(1,2))\n",
        "print(\"Total energy per farm:\",total_per_farm)\n",
        "print(\"Mean per farm:\",mean_per_farm)\n",
        "print(\"Std per farm:\",std_per_farm)\n",
        "print(\"Variance per farm:\",var_per_farm)\n",
        "# STEP 5: Weighted per panel using dot product\n",
        "hour_weights=np.array([0.5,1.0,0.75])\n",
        "weighted_per_panel=np.array([\n",
        "    np.dot(farm,hour_weights) for farm in production_all\n",
        "])\n",
        "print(\"Weighted energy per panel (per farm):\")\n",
        "print(weighted_per_panel)\n",
        "# STEP 6: Broadcasting adjustment (+0.5 to Farm B)\n",
        "production_all[1]= 0.5\n",
        "print(\"After calibration offset (+0.5) to Farm B:\")\n",
        "print(production_all[1])\n",
        "# STEP 7: Normalization (Z-score per farm)\n",
        "norm_data = (production_all - mean_per_farm[:, None, None])/std_per_farm[:, None, None]\n",
        "print(\"Normalized (Z-score) data shape:\", norm_data.shape)\n",
        "# STEP 8: Apply Various UFuncs\n",
        "exp_data=np.exp(norm_data)\n",
        "expm1_data = np.expm1(norm_data)\n",
        "safe_norm = np.abs(norm_data) + 1e-5\n",
        "log_data = np.log(safe_norm)\n",
        "log10_data = np.log10(safe_norm)\n",
        "log2_data = np.log2(safe_norm)\n",
        "sin_data = np.sin(norm_data)\n",
        "cos_data = np.cos(norm_data)\n",
        "tan_data = np.tan(norm_data)\n",
        "arcsin_data = np.arcsin(np.clip(sin_data, -1, 1))\n",
        "arccos_data = np.arccos(np.clip(cos_data, -1, 1))\n",
        "arctan_data = np.arctan(norm_data)\n",
        "degrees_data = np.degrees(arctan_data)\n",
        "radians_data = np.radians(degrees_data)\n",
        "round_data = np.round(norm_data)\n",
        "floor_data = np.floor(norm_data)\n",
        "ceil_data = np.ceil(norm_data)\n",
        "trunc_data = np.trunc(norm_data)\n",
        "# STEP 9: Comparison & Logical Masks\n",
        "high_output = production_all > 20\n",
        "even_hours_mask = np.array([False, True, False])\n",
        "even_hours_mask_3d = np.tile(even_hours_mask, (3, 4, 1))\n",
        "and_mask = np.logical_and(high_output, even_hours_mask_3d)\n",
        "or_mask = np.logical_or(high_output, even_hours_mask_3d)\n",
        "not_mask = np.logical_not(high_output)\n",
        "xor_mask = np.logical_xor(high_output, even_hours_mask_3d)\n",
        "greater_equal_mask = np.greater_equal(production_all, 20)\n",
        "less_mask = np.less(production_all, 15)\n",
        "# STEP 10: Bitwise Operations\n",
        "alerts = np.array([\n",
        "    [[1, 0, 1],\n",
        "     [0, 0, 1],\n",
        "     [1, 1, 0],\n",
        "     [0, 1, 0]]\n",
        "] * 3)\n",
        "bit_and = np.bitwise_and(alerts, (production_all > 18))\n",
        "bit_or = np.bitwise_or(alerts, (production_all > 18))\n",
        "bit_not = np.invert(alerts.astype(bool))\n",
        "# STEP 11: Arithmetic UFuncs\n",
        "add_data = np.add(production_all, 2)\n",
        "sub_data = np.subtract(production_all, 5)\n",
        "mul_data = np.multiply(production_all, 1.2)\n",
        "div_data = np.divide(production_all, 2)\n",
        "pow_data = np.power(production_all, 2)\n",
        "mod_data = np.mod(production_all, 5)\n",
        "# STEP 12: Aggregations over UFuncs\n",
        "exp_sum = np.sum(np.exp(norm_data))\n",
        "sin_mean = np.mean(np.sin(norm_data))\n",
        "print(\"Sum of exp(normalized data):\", exp_sum)\n",
        "print(\"Mean of sin(normalized data):\", sin_mean)\n",
        "# STEP 13: Broadcast-based Summary\n",
        "panel_totals_per_farm = np.sum(production_all, axis=2)  # (3,4)\n",
        "needs_maintenance = np.any(panel_totals_per_farm < 40, axis=1)\n",
        "print(\"Panel totals per farm (sum across hours):\")\n",
        "print(panel_totals_per_farm)\n",
        "print(\"Needs maintenance (panel total < 40):\", needs_maintenance)\n",
        "# STEP 14: Final KPIs\n",
        "overall_total = np.sum(production_all)\n",
        "peak_value = np.max(production_all)\n",
        "peak_index = np.unravel_index(np.argmax(production_all), production_all.shape)\n",
        "average_per_panel = np.mean(production_all, axis=(0, 2))\n",
        "\n",
        "print(\"Overall Total Energy Produced:\", overall_total)\n",
        "print(\"Peak Value:\", peak_value)\n",
        "print(\"Peak Occurred at Farm, Panel, Hour:\", peak_index)\n",
        "print(\"Average per panel across all farms:\", average_per_panel)\n"
      ],
      "metadata": {
        "colab": {
          "base_uri": "https://localhost:8080/"
        },
        "id": "y8LRrDEUdNSM",
        "outputId": "f4305b7f-69d5-484f-e7b3-4ad856ca6e5a"
      },
      "execution_count": 36,
      "outputs": [
        {
          "output_type": "stream",
          "name": "stdout",
          "text": [
            "Production Data (3 farms × 4 panels × 3 hours):\n",
            "[[[10 12 11]\n",
            "  [ 9 11 10]\n",
            "  [12 13 14]\n",
            "  [ 8  7  9]]\n",
            "\n",
            " [[20 19 21]\n",
            "  [18 20 19]\n",
            "  [22 23 21]\n",
            "  [17 18 16]]\n",
            "\n",
            " [[15 16 14]\n",
            "  [14 13 12]\n",
            "  [16 17 18]\n",
            "  [12 11 13]]]\n",
            "Shape: (3, 4, 3)\n",
            "Size: 36\n",
            "Data Type: int64\n",
            "Dimensions: 3\n",
            "Total energy per farm: [126 234 171]\n",
            "Mean per farm: [10.5  19.5  14.25]\n",
            "Std per farm: [1.97905701 1.97905701 2.086664  ]\n",
            "Variance per farm: [3.91666667 3.91666667 4.35416667]\n",
            "Weighted energy per panel (per farm):\n",
            "[[25.25 23.   29.5  17.75]\n",
            " [44.75 43.25 49.75 38.5 ]\n",
            " [34.   29.   38.5  26.75]]\n",
            "After calibration offset (+0.5) to Farm B:\n",
            "[[0 0 0]\n",
            " [0 0 0]\n",
            " [0 0 0]\n",
            " [0 0 0]]\n",
            "Normalized (Z-score) data shape: (3, 4, 3)\n",
            "Sum of exp(normalized data): 38.77702845913089\n",
            "Mean of sin(normalized data): 0.1288321198082658\n",
            "Panel totals per farm (sum across hours):\n",
            "[[33 30 39 24]\n",
            " [ 0  0  0  0]\n",
            " [45 39 51 36]]\n",
            "Needs maintenance (panel total < 40): [ True  True  True]\n",
            "Overall Total Energy Produced: 297\n",
            "Peak Value: 18\n",
            "Peak Occurred at Farm, Panel, Hour: (np.int64(2), np.int64(2), np.int64(2))\n",
            "Average per panel across all farms: [ 8.66666667  7.66666667 10.          6.66666667]\n"
          ]
        }
      ]
    },
    {
      "cell_type": "code",
      "source": [
        "arr=np.array([1,2,3,4,5,6])\n",
        "reshaped=arr.reshape(2,3)\n",
        "print(reshaped)"
      ],
      "metadata": {
        "colab": {
          "base_uri": "https://localhost:8080/"
        },
        "id": "McwOGjiK2IVj",
        "outputId": "cc76fcef-cd24-4cff-ee02-72ee22a68f13"
      },
      "execution_count": 37,
      "outputs": [
        {
          "output_type": "stream",
          "name": "stdout",
          "text": [
            "[[1 2 3]\n",
            " [4 5 6]]\n"
          ]
        }
      ]
    },
    {
      "cell_type": "code",
      "source": [
        "a=np.array([1,2])\n",
        "b=np.array([3,4])\n",
        "print(np.vstack((a,b)))\n",
        "print(np.hstack((a,b)))"
      ],
      "metadata": {
        "colab": {
          "base_uri": "https://localhost:8080/"
        },
        "id": "Pu1GhI-z2Ylz",
        "outputId": "eb963fd1-dcd1-4fe2-fc32-9c31b773a287"
      },
      "execution_count": 39,
      "outputs": [
        {
          "output_type": "stream",
          "name": "stdout",
          "text": [
            "[[1 2]\n",
            " [3 4]]\n",
            "[1 2 3 4]\n",
            "[array([1, 2]), array([3, 4]), array([5, 6])]\n"
          ]
        }
      ]
    },
    {
      "cell_type": "code",
      "source": [
        "arr=np.array([1,2,3,4,5])\n",
        "print(arr[arr>3])\n",
        "a=np.array([10,20,30,40])\n",
        "indices=[0,2]\n",
        "print(a[indices])"
      ],
      "metadata": {
        "colab": {
          "base_uri": "https://localhost:8080/"
        },
        "id": "MvQ4kOb95DCo",
        "outputId": "f30d3dc6-2001-479e-f22d-d717f63bcc0d"
      },
      "execution_count": 40,
      "outputs": [
        {
          "output_type": "stream",
          "name": "stdout",
          "text": [
            "[4 5]\n",
            "[10 30]\n"
          ]
        }
      ]
    },
    {
      "cell_type": "code",
      "source": [
        "arr=np.array([1,2,3])\n",
        "view=arr.view()\n",
        "view[0]=10\n",
        "print(arr)"
      ],
      "metadata": {
        "colab": {
          "base_uri": "https://localhost:8080/"
        },
        "id": "QMsJ5lrc50jr",
        "outputId": "750ef15f-6e2a-40e5-f4b9-4843cd9c5793"
      },
      "execution_count": 41,
      "outputs": [
        {
          "output_type": "stream",
          "name": "stdout",
          "text": [
            "[10  2  3]\n"
          ]
        }
      ]
    },
    {
      "cell_type": "code",
      "source": [
        "import numpy as np\n",
        "arr1=np.arange(10,51)\n",
        "print(\"1D Array (10–50):\\n\",arr1)\n",
        "rand_arr=np.random.rand(3,3)\n",
        "print(\"\\n3x3 Random Array:\\n\", rand_arr)\n",
        "# Array Attributes\n",
        "print(\"\\nArray Attributes:\")\n",
        "print(\"Shape:\", rand_arr.shape)\n",
        "print(\"Size:\", rand_arr.size)\n",
        "print(\"Data type:\", rand_arr.dtype)\n",
        "#Basic Operations\n",
        "arr_plus5=arr1 + 5\n",
        "print(\"\\nArray after adding 5:\\n\",arr_plus5)\n",
        "A=np.array([[1,2,3],[4,5,6]])\n",
        "B=np.array([[2,2,2],[3,3,3]])\n",
        "elementwise_mult=A*B\n",
        "print(\"\\nElement-wise multiplication:\\n\",elementwise_mult)\n",
        "#Indexing and Slicing\n",
        "arr5x5=np.arange(1,26).reshape(5,5)\n",
        "print(\"\\n5x5 Array:\\n\",arr5x5)\n",
        "print(\"\\nFirst row:\",arr5x5[0])\n",
        "print(\"Last column:\",arr5x5[:,-1])\n",
        "print(\"Subarray (first 3 rows & 2 columns):\\n\",arr5x5[:3,:2])\n",
        "#Aggregation\n",
        "rand_ints=np.random.randint(10,100,10)\n",
        "print(\"\\nRandom Integers:\",rand_ints)\n",
        "print(\"Max:\",np.max(rand_ints))\n",
        "print(\"Min:\",np.min(rand_ints))\n",
        "print(\"Mean:\",np.mean(rand_ints))\n",
        "print(\"Standard Deviation:\",np.std(rand_ints))\n",
        "# Reshaping\n",
        "arr_reshaped=np.arange(1,13).reshape(3,4)\n",
        "print(\"\\nReshaped 3x4 Array:\\n\",arr_reshaped)\n",
        "# Broadcasting\n",
        "matrix_ones=np.ones((3,3))\n",
        "arr_to_add=np.array([1,2,3])\n",
        "broadcasted_sum=matrix_ones+arr_to_add\n",
        "print(\"\\nBroadcasted Addition:\\n\", broadcasted_sum)\n",
        "#Filtering\n",
        "rand_filter= np.random.randint(1,50,10)\n",
        "div_by_5 = rand_filter[rand_filter % 5==0]\n",
        "print(\"\\nRandom Integers:\",rand_filter)\n",
        "print(\"Elements divisible by 5:\",div_by_5)\n",
        "# Matrix Multiplication\n",
        "mat1=np.array([[2,4],[1,3]])\n",
        "mat2=np.array([[5,2],[7,6]])\n",
        "mat_mul = np.dot(mat1, mat2)\n",
        "print(\"\\nMatrix 1:\\n\",mat1)\n",
        "print(\"Matrix 2:\\n\",mat2)\n",
        "print(\"Matrix Multiplication:\\n\", mat_mul)\n",
        "# Advanced Indexing\n",
        "arr4x4 = np.arange(1,17).reshape(4,4)\n",
        "print(\"\\n4x4 Array:\\n\",arr4x4)\n",
        "rows=np.arange(4)\n",
        "cols=np.arange(4)\n",
        "diagonal_elements=arr4x4[rows, cols]\n",
        "print(\"Diagonal Elements:\",diagonal_elements)\n"
      ],
      "metadata": {
        "colab": {
          "base_uri": "https://localhost:8080/"
        },
        "id": "6dcR-EYK7vmu",
        "outputId": "99d784e3-37b5-401c-a3cb-a057a611703d"
      },
      "execution_count": 44,
      "outputs": [
        {
          "output_type": "stream",
          "name": "stdout",
          "text": [
            "1D Array (10–50):\n",
            " [10 11 12 13 14 15 16 17 18 19 20 21 22 23 24 25 26 27 28 29 30 31 32 33\n",
            " 34 35 36 37 38 39 40 41 42 43 44 45 46 47 48 49 50]\n",
            "\n",
            "3x3 Random Array:\n",
            " [[0.51124857 0.40700732 0.35533753]\n",
            " [0.67220239 0.85359377 0.28895592]\n",
            " [0.94949397 0.79440693 0.0946293 ]]\n",
            "\n",
            "Array Attributes:\n",
            "Shape: (3, 3)\n",
            "Size: 9\n",
            "Data type: float64\n",
            "\n",
            "Array after adding 5:\n",
            " [15 16 17 18 19 20 21 22 23 24 25 26 27 28 29 30 31 32 33 34 35 36 37 38\n",
            " 39 40 41 42 43 44 45 46 47 48 49 50 51 52 53 54 55]\n",
            "\n",
            "Element-wise multiplication:\n",
            " [[ 2  4  6]\n",
            " [12 15 18]]\n",
            "\n",
            "5x5 Array:\n",
            " [[ 1  2  3  4  5]\n",
            " [ 6  7  8  9 10]\n",
            " [11 12 13 14 15]\n",
            " [16 17 18 19 20]\n",
            " [21 22 23 24 25]]\n",
            "\n",
            "First row: [1 2 3 4 5]\n",
            "Last column: [ 5 10 15 20 25]\n",
            "Subarray (first 3 rows & 2 columns):\n",
            " [[ 1  2]\n",
            " [ 6  7]\n",
            " [11 12]]\n",
            "\n",
            "Random Integers: [36 93 91 54 54 36 35 82 30 31]\n",
            "Max: 93\n",
            "Min: 30\n",
            "Mean: 54.2\n",
            "Standard Deviation: 24.0574312843246\n",
            "\n",
            "Reshaped 3x4 Array:\n",
            " [[ 1  2  3  4]\n",
            " [ 5  6  7  8]\n",
            " [ 9 10 11 12]]\n",
            "\n",
            "Broadcasted Addition:\n",
            " [[2. 3. 4.]\n",
            " [2. 3. 4.]\n",
            " [2. 3. 4.]]\n",
            "\n",
            "Random Integers: [12  2  7 16 30 35 32 11  7 23]\n",
            "Elements divisible by 5: [30 35]\n",
            "\n",
            "Matrix 1:\n",
            " [[2 4]\n",
            " [1 3]]\n",
            "Matrix 2:\n",
            " [[5 2]\n",
            " [7 6]]\n",
            "Matrix Multiplication:\n",
            " [[38 28]\n",
            " [26 20]]\n",
            "\n",
            "4x4 Array:\n",
            " [[ 1  2  3  4]\n",
            " [ 5  6  7  8]\n",
            " [ 9 10 11 12]\n",
            " [13 14 15 16]]\n",
            "Diagonal Elements: [ 1  6 11 16]\n"
          ]
        }
      ]
    }
  ]
}